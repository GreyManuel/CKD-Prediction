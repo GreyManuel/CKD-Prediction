{
 "cells": [
  {
   "cell_type": "code",
   "execution_count": 45,
   "metadata": {},
   "outputs": [],
   "source": [
    "#import libraries\n",
    "\n",
    "import importlib\n",
    "\n",
    "import pandas as pd\n",
    "import numpy as np\n",
    "import matplotlib as mpl\n",
    "import matplotlib.pyplot as plt\n",
    "import seaborn as sns\n",
    "\n",
    "import attrs\n",
    "\n",
    "from sklearn.preprocessing import LabelEncoder, StandardScaler\n",
    "from sklearn.pipeline import Pipeline, FeatureUnion\n",
    "from sklearn.model_selection import train_test_split, GridSearchCV\n",
    "from sklearn.compose import ColumnTransformer\n",
    "\n",
    "import joblib"
   ]
  },
  {
   "cell_type": "code",
   "execution_count": 2,
   "metadata": {},
   "outputs": [
    {
     "data": {
      "text/plain": [
       "<module 'attrs' from 'd:\\\\Machine learning\\\\Projects\\\\Chronic Kidney Disease Prediction\\\\attrs.py'>"
      ]
     },
     "execution_count": 2,
     "metadata": {},
     "output_type": "execute_result"
    }
   ],
   "source": [
    "importlib.reload(attrs)"
   ]
  },
  {
   "cell_type": "code",
   "execution_count": 3,
   "metadata": {},
   "outputs": [],
   "source": [
    "# load datasets\n",
    "\n",
    "train_data = attrs.load_dataset('datasets/kidney_disease_train.csv')\n",
    "test_data = attrs.load_dataset('datasets/kidney_disease_test.csv')"
   ]
  },
  {
   "cell_type": "code",
   "execution_count": 4,
   "metadata": {},
   "outputs": [
    {
     "name": "stdout",
     "output_type": "stream",
     "text": [
      "<class 'pandas.core.frame.DataFrame'>\n",
      "Int64Index: 280 entries, 157 to 102\n",
      "Data columns (total 25 columns):\n",
      " #   Column          Non-Null Count  Dtype  \n",
      "---  ------          --------------  -----  \n",
      " 0   age             275 non-null    float64\n",
      " 1   bp              271 non-null    float64\n",
      " 2   sg              244 non-null    float64\n",
      " 3   al              245 non-null    float64\n",
      " 4   su              242 non-null    float64\n",
      " 5   rbc             173 non-null    object \n",
      " 6   pc              230 non-null    object \n",
      " 7   pcc             276 non-null    object \n",
      " 8   ba              276 non-null    object \n",
      " 9   bgr             247 non-null    float64\n",
      " 10  bu              266 non-null    float64\n",
      " 11  sc              268 non-null    float64\n",
      " 12  sod             213 non-null    float64\n",
      " 13  pot             212 non-null    float64\n",
      " 14  hemo            241 non-null    float64\n",
      " 15  pcv             229 non-null    float64\n",
      " 16  wc              203 non-null    object \n",
      " 17  rc              187 non-null    object \n",
      " 18  htn             279 non-null    object \n",
      " 19  dm              279 non-null    object \n",
      " 20  cad             279 non-null    object \n",
      " 21  appet           280 non-null    object \n",
      " 22  pe              280 non-null    object \n",
      " 23  ane             280 non-null    object \n",
      " 24  classification  280 non-null    object \n",
      "dtypes: float64(12), object(13)\n",
      "memory usage: 56.9+ KB\n"
     ]
    }
   ],
   "source": [
    "train_data.info()"
   ]
  },
  {
   "cell_type": "code",
   "execution_count": 5,
   "metadata": {},
   "outputs": [
    {
     "data": {
      "text/html": [
       "<div>\n",
       "<style scoped>\n",
       "    .dataframe tbody tr th:only-of-type {\n",
       "        vertical-align: middle;\n",
       "    }\n",
       "\n",
       "    .dataframe tbody tr th {\n",
       "        vertical-align: top;\n",
       "    }\n",
       "\n",
       "    .dataframe thead th {\n",
       "        text-align: right;\n",
       "    }\n",
       "</style>\n",
       "<table border=\"1\" class=\"dataframe\">\n",
       "  <thead>\n",
       "    <tr style=\"text-align: right;\">\n",
       "      <th></th>\n",
       "      <th>age</th>\n",
       "      <th>bp</th>\n",
       "      <th>sg</th>\n",
       "      <th>al</th>\n",
       "      <th>su</th>\n",
       "      <th>bgr</th>\n",
       "      <th>bu</th>\n",
       "      <th>sc</th>\n",
       "      <th>sod</th>\n",
       "      <th>pot</th>\n",
       "      <th>hemo</th>\n",
       "      <th>pcv</th>\n",
       "    </tr>\n",
       "  </thead>\n",
       "  <tbody>\n",
       "    <tr>\n",
       "      <th>count</th>\n",
       "      <td>275.000000</td>\n",
       "      <td>271.000000</td>\n",
       "      <td>244.000000</td>\n",
       "      <td>245.000000</td>\n",
       "      <td>242.000000</td>\n",
       "      <td>247.000000</td>\n",
       "      <td>266.000000</td>\n",
       "      <td>268.000000</td>\n",
       "      <td>213.000000</td>\n",
       "      <td>212.000000</td>\n",
       "      <td>241.000000</td>\n",
       "      <td>229.000000</td>\n",
       "    </tr>\n",
       "    <tr>\n",
       "      <th>mean</th>\n",
       "      <td>51.454545</td>\n",
       "      <td>76.051661</td>\n",
       "      <td>1.017439</td>\n",
       "      <td>1.024490</td>\n",
       "      <td>0.438017</td>\n",
       "      <td>150.186235</td>\n",
       "      <td>56.983835</td>\n",
       "      <td>3.006157</td>\n",
       "      <td>137.255869</td>\n",
       "      <td>4.754245</td>\n",
       "      <td>12.531535</td>\n",
       "      <td>39.165939</td>\n",
       "    </tr>\n",
       "    <tr>\n",
       "      <th>std</th>\n",
       "      <td>17.476176</td>\n",
       "      <td>14.256289</td>\n",
       "      <td>0.005746</td>\n",
       "      <td>1.375805</td>\n",
       "      <td>1.073193</td>\n",
       "      <td>77.357144</td>\n",
       "      <td>51.456635</td>\n",
       "      <td>5.850085</td>\n",
       "      <td>11.677123</td>\n",
       "      <td>3.826341</td>\n",
       "      <td>2.882635</td>\n",
       "      <td>8.774388</td>\n",
       "    </tr>\n",
       "    <tr>\n",
       "      <th>min</th>\n",
       "      <td>2.000000</td>\n",
       "      <td>50.000000</td>\n",
       "      <td>1.005000</td>\n",
       "      <td>0.000000</td>\n",
       "      <td>0.000000</td>\n",
       "      <td>70.000000</td>\n",
       "      <td>10.000000</td>\n",
       "      <td>0.400000</td>\n",
       "      <td>4.500000</td>\n",
       "      <td>2.700000</td>\n",
       "      <td>3.100000</td>\n",
       "      <td>9.000000</td>\n",
       "    </tr>\n",
       "    <tr>\n",
       "      <th>25%</th>\n",
       "      <td>42.000000</td>\n",
       "      <td>70.000000</td>\n",
       "      <td>1.010000</td>\n",
       "      <td>0.000000</td>\n",
       "      <td>0.000000</td>\n",
       "      <td>100.000000</td>\n",
       "      <td>27.250000</td>\n",
       "      <td>0.900000</td>\n",
       "      <td>135.000000</td>\n",
       "      <td>3.900000</td>\n",
       "      <td>10.500000</td>\n",
       "      <td>33.000000</td>\n",
       "    </tr>\n",
       "    <tr>\n",
       "      <th>50%</th>\n",
       "      <td>55.000000</td>\n",
       "      <td>70.000000</td>\n",
       "      <td>1.020000</td>\n",
       "      <td>0.000000</td>\n",
       "      <td>0.000000</td>\n",
       "      <td>124.000000</td>\n",
       "      <td>41.000000</td>\n",
       "      <td>1.300000</td>\n",
       "      <td>138.000000</td>\n",
       "      <td>4.400000</td>\n",
       "      <td>12.700000</td>\n",
       "      <td>41.000000</td>\n",
       "    </tr>\n",
       "    <tr>\n",
       "      <th>75%</th>\n",
       "      <td>65.000000</td>\n",
       "      <td>80.000000</td>\n",
       "      <td>1.020000</td>\n",
       "      <td>2.000000</td>\n",
       "      <td>0.000000</td>\n",
       "      <td>171.500000</td>\n",
       "      <td>64.750000</td>\n",
       "      <td>2.800000</td>\n",
       "      <td>141.000000</td>\n",
       "      <td>4.900000</td>\n",
       "      <td>14.900000</td>\n",
       "      <td>46.000000</td>\n",
       "    </tr>\n",
       "    <tr>\n",
       "      <th>max</th>\n",
       "      <td>90.000000</td>\n",
       "      <td>180.000000</td>\n",
       "      <td>1.025000</td>\n",
       "      <td>5.000000</td>\n",
       "      <td>5.000000</td>\n",
       "      <td>490.000000</td>\n",
       "      <td>391.000000</td>\n",
       "      <td>76.000000</td>\n",
       "      <td>163.000000</td>\n",
       "      <td>47.000000</td>\n",
       "      <td>17.800000</td>\n",
       "      <td>54.000000</td>\n",
       "    </tr>\n",
       "  </tbody>\n",
       "</table>\n",
       "</div>"
      ],
      "text/plain": [
       "              age          bp          sg          al          su         bgr  \\\n",
       "count  275.000000  271.000000  244.000000  245.000000  242.000000  247.000000   \n",
       "mean    51.454545   76.051661    1.017439    1.024490    0.438017  150.186235   \n",
       "std     17.476176   14.256289    0.005746    1.375805    1.073193   77.357144   \n",
       "min      2.000000   50.000000    1.005000    0.000000    0.000000   70.000000   \n",
       "25%     42.000000   70.000000    1.010000    0.000000    0.000000  100.000000   \n",
       "50%     55.000000   70.000000    1.020000    0.000000    0.000000  124.000000   \n",
       "75%     65.000000   80.000000    1.020000    2.000000    0.000000  171.500000   \n",
       "max     90.000000  180.000000    1.025000    5.000000    5.000000  490.000000   \n",
       "\n",
       "               bu          sc         sod         pot        hemo         pcv  \n",
       "count  266.000000  268.000000  213.000000  212.000000  241.000000  229.000000  \n",
       "mean    56.983835    3.006157  137.255869    4.754245   12.531535   39.165939  \n",
       "std     51.456635    5.850085   11.677123    3.826341    2.882635    8.774388  \n",
       "min     10.000000    0.400000    4.500000    2.700000    3.100000    9.000000  \n",
       "25%     27.250000    0.900000  135.000000    3.900000   10.500000   33.000000  \n",
       "50%     41.000000    1.300000  138.000000    4.400000   12.700000   41.000000  \n",
       "75%     64.750000    2.800000  141.000000    4.900000   14.900000   46.000000  \n",
       "max    391.000000   76.000000  163.000000   47.000000   17.800000   54.000000  "
      ]
     },
     "execution_count": 5,
     "metadata": {},
     "output_type": "execute_result"
    }
   ],
   "source": [
    "train_data.describe()"
   ]
  },
  {
   "cell_type": "code",
   "execution_count": 6,
   "metadata": {},
   "outputs": [
    {
     "data": {
      "text/plain": [
       "(280, 25)"
      ]
     },
     "execution_count": 6,
     "metadata": {},
     "output_type": "execute_result"
    }
   ],
   "source": [
    "train_data.shape"
   ]
  },
  {
   "cell_type": "code",
   "execution_count": 7,
   "metadata": {},
   "outputs": [
    {
     "data": {
      "text/plain": [
       "(120, 24)"
      ]
     },
     "execution_count": 7,
     "metadata": {},
     "output_type": "execute_result"
    }
   ],
   "source": [
    "test_data.shape"
   ]
  },
  {
   "cell_type": "code",
   "execution_count": 8,
   "metadata": {},
   "outputs": [],
   "source": [
    "train_data_copy = train_data.copy()"
   ]
  },
  {
   "cell_type": "code",
   "execution_count": 9,
   "metadata": {},
   "outputs": [],
   "source": [
    "# columns to be dropped\n",
    "columns_drop = [\"rbc\", \"rc\", \"wc\", 'cad', 'sod', 'pot', 'appet', \"pcc\", 'ba', 'appet', 'dm', 'pe', 'ane']\n",
    "\n",
    "train_data_copy = train_data_copy.drop(columns_drop, axis=1)"
   ]
  },
  {
   "cell_type": "code",
   "execution_count": 10,
   "metadata": {},
   "outputs": [
    {
     "name": "stdout",
     "output_type": "stream",
     "text": [
      "<class 'pandas.core.frame.DataFrame'>\n",
      "Int64Index: 167 entries, 157 to 102\n",
      "Data columns (total 13 columns):\n",
      " #   Column          Non-Null Count  Dtype  \n",
      "---  ------          --------------  -----  \n",
      " 0   age             167 non-null    float64\n",
      " 1   bp              167 non-null    float64\n",
      " 2   sg              167 non-null    float64\n",
      " 3   al              167 non-null    float64\n",
      " 4   su              167 non-null    float64\n",
      " 5   pc              167 non-null    object \n",
      " 6   bgr             167 non-null    float64\n",
      " 7   bu              167 non-null    float64\n",
      " 8   sc              167 non-null    float64\n",
      " 9   hemo            167 non-null    float64\n",
      " 10  pcv             167 non-null    float64\n",
      " 11  htn             167 non-null    object \n",
      " 12  classification  167 non-null    object \n",
      "dtypes: float64(10), object(3)\n",
      "memory usage: 18.3+ KB\n"
     ]
    }
   ],
   "source": [
    "train_data_copy = train_data_copy.dropna(axis=0)\n",
    "train_data_copy.info()"
   ]
  },
  {
   "cell_type": "code",
   "execution_count": 11,
   "metadata": {},
   "outputs": [
    {
     "data": {
      "text/plain": [
       "(167, 13)"
      ]
     },
     "execution_count": 11,
     "metadata": {},
     "output_type": "execute_result"
    }
   ],
   "source": [
    "train_data_copy.shape"
   ]
  },
  {
   "cell_type": "code",
   "execution_count": 12,
   "metadata": {},
   "outputs": [],
   "source": [
    "# save the cleaned data\n",
    "train_data_copy.to_csv('datasets/kidney_disease_train_clean.csv')"
   ]
  },
  {
   "cell_type": "code",
   "execution_count": 13,
   "metadata": {},
   "outputs": [
    {
     "name": "stderr",
     "output_type": "stream",
     "text": [
      "e:\\Program files\\Anaconda3\\lib\\site-packages\\seaborn\\_decorators.py:36: FutureWarning: Pass the following variable as a keyword arg: x. From version 0.12, the only valid positional argument will be `data`, and passing other arguments without an explicit keyword will result in an error or misinterpretation.\n",
      "  warnings.warn(\n"
     ]
    },
    {
     "data": {
      "text/plain": [
       "<AxesSubplot:xlabel='classification', ylabel='count'>"
      ]
     },
     "execution_count": 13,
     "metadata": {},
     "output_type": "execute_result"
    },
    {
     "data": {
      "image/png": "[encoded data removed]",
      "text/plain": [
       "<Figure size 432x288 with 1 Axes>"
      ]
     },
     "metadata": {
      "needs_background": "light"
     },
     "output_type": "display_data"
    }
   ],
   "source": [
    "sns.countplot(train_data_copy['classification'],label=\"Count\")"
   ]
  },
  {
   "cell_type": "code",
   "execution_count": 14,
   "metadata": {},
   "outputs": [
    {
     "data": {
      "text/plain": [
       "<AxesSubplot:>"
      ]
     },
     "execution_count": 14,
     "metadata": {},
     "output_type": "execute_result"
    },
    {
     "data": {
      "image/png": "[encoded data removed]",
      "text/plain": [
       "<Figure size 1440x720 with 2 Axes>"
      ]
     },
     "metadata": {
      "needs_background": "light"
     },
     "output_type": "display_data"
    }
   ],
   "source": [
    "plt.figure(figsize=(20,10))  #This is used to change the size of the figure/ heatmap\n",
    "sns.heatmap(train_data_copy.corr(), annot=True, fmt='.0%')"
   ]
  },
  {
   "cell_type": "code",
   "execution_count": 15,
   "metadata": {},
   "outputs": [
    {
     "name": "stdout",
     "output_type": "stream",
     "text": [
      "<class 'pandas.core.frame.DataFrame'>\n",
      "Int64Index: 167 entries, 157 to 102\n",
      "Data columns (total 13 columns):\n",
      " #   Column          Non-Null Count  Dtype  \n",
      "---  ------          --------------  -----  \n",
      " 0   age             167 non-null    float64\n",
      " 1   bp              167 non-null    float64\n",
      " 2   sg              167 non-null    float64\n",
      " 3   al              167 non-null    float64\n",
      " 4   su              167 non-null    float64\n",
      " 5   pc              167 non-null    object \n",
      " 6   bgr             167 non-null    float64\n",
      " 7   bu              167 non-null    float64\n",
      " 8   sc              167 non-null    float64\n",
      " 9   hemo            167 non-null    float64\n",
      " 10  pcv             167 non-null    float64\n",
      " 11  htn             167 non-null    object \n",
      " 12  classification  167 non-null    object \n",
      "dtypes: float64(10), object(3)\n",
      "memory usage: 22.3+ KB\n"
     ]
    }
   ],
   "source": [
    "train_data_copy.info()"
   ]
  },
  {
   "cell_type": "code",
   "execution_count": 16,
   "metadata": {},
   "outputs": [],
   "source": [
    "X = train_data_copy.drop(['classification'], axis=1)\n",
    "y = train_data_copy['classification']"
   ]
  },
  {
   "cell_type": "code",
   "execution_count": 17,
   "metadata": {},
   "outputs": [
    {
     "data": {
      "text/html": [
       "<div>\n",
       "<style scoped>\n",
       "    .dataframe tbody tr th:only-of-type {\n",
       "        vertical-align: middle;\n",
       "    }\n",
       "\n",
       "    .dataframe tbody tr th {\n",
       "        vertical-align: top;\n",
       "    }\n",
       "\n",
       "    .dataframe thead th {\n",
       "        text-align: right;\n",
       "    }\n",
       "</style>\n",
       "<table border=\"1\" class=\"dataframe\">\n",
       "  <thead>\n",
       "    <tr style=\"text-align: right;\">\n",
       "      <th></th>\n",
       "      <th>age</th>\n",
       "      <th>bp</th>\n",
       "      <th>sg</th>\n",
       "      <th>al</th>\n",
       "      <th>su</th>\n",
       "      <th>bgr</th>\n",
       "      <th>bu</th>\n",
       "      <th>sc</th>\n",
       "      <th>hemo</th>\n",
       "      <th>pcv</th>\n",
       "    </tr>\n",
       "  </thead>\n",
       "  <tbody>\n",
       "    <tr>\n",
       "      <th>count</th>\n",
       "      <td>167.000000</td>\n",
       "      <td>167.000000</td>\n",
       "      <td>167.000000</td>\n",
       "      <td>167.000000</td>\n",
       "      <td>167.000000</td>\n",
       "      <td>167.000000</td>\n",
       "      <td>167.000000</td>\n",
       "      <td>167.000000</td>\n",
       "      <td>167.000000</td>\n",
       "      <td>167.000000</td>\n",
       "    </tr>\n",
       "    <tr>\n",
       "      <th>mean</th>\n",
       "      <td>51.994012</td>\n",
       "      <td>74.550898</td>\n",
       "      <td>1.018084</td>\n",
       "      <td>1.005988</td>\n",
       "      <td>0.401198</td>\n",
       "      <td>146.383234</td>\n",
       "      <td>53.377246</td>\n",
       "      <td>2.378443</td>\n",
       "      <td>12.910180</td>\n",
       "      <td>39.844311</td>\n",
       "    </tr>\n",
       "    <tr>\n",
       "      <th>std</th>\n",
       "      <td>16.633359</td>\n",
       "      <td>11.123978</td>\n",
       "      <td>0.005853</td>\n",
       "      <td>1.390575</td>\n",
       "      <td>1.000361</td>\n",
       "      <td>75.754417</td>\n",
       "      <td>42.863276</td>\n",
       "      <td>3.235386</td>\n",
       "      <td>2.763262</td>\n",
       "      <td>8.722617</td>\n",
       "    </tr>\n",
       "    <tr>\n",
       "      <th>min</th>\n",
       "      <td>6.000000</td>\n",
       "      <td>50.000000</td>\n",
       "      <td>1.005000</td>\n",
       "      <td>0.000000</td>\n",
       "      <td>0.000000</td>\n",
       "      <td>70.000000</td>\n",
       "      <td>10.000000</td>\n",
       "      <td>0.400000</td>\n",
       "      <td>3.100000</td>\n",
       "      <td>9.000000</td>\n",
       "    </tr>\n",
       "    <tr>\n",
       "      <th>25%</th>\n",
       "      <td>42.000000</td>\n",
       "      <td>70.000000</td>\n",
       "      <td>1.015000</td>\n",
       "      <td>0.000000</td>\n",
       "      <td>0.000000</td>\n",
       "      <td>100.000000</td>\n",
       "      <td>28.000000</td>\n",
       "      <td>0.800000</td>\n",
       "      <td>10.900000</td>\n",
       "      <td>33.000000</td>\n",
       "    </tr>\n",
       "    <tr>\n",
       "      <th>50%</th>\n",
       "      <td>56.000000</td>\n",
       "      <td>70.000000</td>\n",
       "      <td>1.020000</td>\n",
       "      <td>0.000000</td>\n",
       "      <td>0.000000</td>\n",
       "      <td>123.000000</td>\n",
       "      <td>41.000000</td>\n",
       "      <td>1.200000</td>\n",
       "      <td>13.400000</td>\n",
       "      <td>41.000000</td>\n",
       "    </tr>\n",
       "    <tr>\n",
       "      <th>75%</th>\n",
       "      <td>65.000000</td>\n",
       "      <td>80.000000</td>\n",
       "      <td>1.025000</td>\n",
       "      <td>2.000000</td>\n",
       "      <td>0.000000</td>\n",
       "      <td>162.500000</td>\n",
       "      <td>56.000000</td>\n",
       "      <td>2.450000</td>\n",
       "      <td>15.000000</td>\n",
       "      <td>46.500000</td>\n",
       "    </tr>\n",
       "    <tr>\n",
       "      <th>max</th>\n",
       "      <td>90.000000</td>\n",
       "      <td>100.000000</td>\n",
       "      <td>1.025000</td>\n",
       "      <td>4.000000</td>\n",
       "      <td>5.000000</td>\n",
       "      <td>490.000000</td>\n",
       "      <td>309.000000</td>\n",
       "      <td>24.000000</td>\n",
       "      <td>17.800000</td>\n",
       "      <td>54.000000</td>\n",
       "    </tr>\n",
       "  </tbody>\n",
       "</table>\n",
       "</div>"
      ],
      "text/plain": [
       "              age          bp          sg          al          su         bgr  \\\n",
       "count  167.000000  167.000000  167.000000  167.000000  167.000000  167.000000   \n",
       "mean    51.994012   74.550898    1.018084    1.005988    0.401198  146.383234   \n",
       "std     16.633359   11.123978    0.005853    1.390575    1.000361   75.754417   \n",
       "min      6.000000   50.000000    1.005000    0.000000    0.000000   70.000000   \n",
       "25%     42.000000   70.000000    1.015000    0.000000    0.000000  100.000000   \n",
       "50%     56.000000   70.000000    1.020000    0.000000    0.000000  123.000000   \n",
       "75%     65.000000   80.000000    1.025000    2.000000    0.000000  162.500000   \n",
       "max     90.000000  100.000000    1.025000    4.000000    5.000000  490.000000   \n",
       "\n",
       "               bu          sc        hemo         pcv  \n",
       "count  167.000000  167.000000  167.000000  167.000000  \n",
       "mean    53.377246    2.378443   12.910180   39.844311  \n",
       "std     42.863276    3.235386    2.763262    8.722617  \n",
       "min     10.000000    0.400000    3.100000    9.000000  \n",
       "25%     28.000000    0.800000   10.900000   33.000000  \n",
       "50%     41.000000    1.200000   13.400000   41.000000  \n",
       "75%     56.000000    2.450000   15.000000   46.500000  \n",
       "max    309.000000   24.000000   17.800000   54.000000  "
      ]
     },
     "execution_count": 17,
     "metadata": {},
     "output_type": "execute_result"
    }
   ],
   "source": [
    "X.describe()"
   ]
  },
  {
   "cell_type": "code",
   "execution_count": 18,
   "metadata": {},
   "outputs": [],
   "source": [
    "#split the data into 80% training and 20% testing \n",
    "\n",
    "X_train,  X_test, y_train, y_test = train_test_split(X, y, test_size= 0.2, random_state=42)"
   ]
  },
  {
   "cell_type": "code",
   "execution_count": 19,
   "metadata": {},
   "outputs": [],
   "source": [
    "# attributes for the pipeline transformations\n",
    "\n",
    "num_cols = [col for col in X_train.columns if X_train[col].dtype in ['int64', 'float64']]\n",
    "ordinal_cat_cols = [\"pc\", \"htn\"]\n",
    "nominal_cat_cols = []\n",
    "cat_cols = ordinal_cat_cols + nominal_cat_cols\n",
    "\n",
    "# attributes to be generated from existing one\n",
    "attrs_combination_cols = [\"bp_per_age\", \"bgr_per_su\", \"bu_per_al\"]"
   ]
  },
  {
   "cell_type": "code",
   "execution_count": 20,
   "metadata": {},
   "outputs": [],
   "source": [
    "# A pipeline for numerical columns transformation\n",
    "\n",
    "num_pipeline = Pipeline([\n",
    "    ('attribs_adder', attrs.CombinedAttributesAdder())\n",
    "])\n",
    "\n",
    "num_pipeline_scale = Pipeline([\n",
    "    ('attribs_adder', attrs.CombinedAttributesAdder()),\n",
    "    ('std_scaler', StandardScaler())\n",
    "])"
   ]
  },
  {
   "cell_type": "code",
   "execution_count": 21,
   "metadata": {},
   "outputs": [],
   "source": [
    "# A pipeline for catgorical columns transformation\n",
    "\n",
    "cat_pipeline = Pipeline([\n",
    "    ('ordinal_cat', attrs.MultiColumnLabelEncoder(columns=cat_cols))\n",
    "])"
   ]
  },
  {
   "cell_type": "code",
   "execution_count": 22,
   "metadata": {},
   "outputs": [],
   "source": [
    "# Full pipeline for the whole data preparation\n",
    "\n",
    "full_pipeline = ColumnTransformer([\n",
    "    ('num', num_pipeline, num_cols),\n",
    "    ('cat', cat_pipeline, cat_cols)\n",
    "])\n",
    "\n",
    "full_pipeline_scale = ColumnTransformer([\n",
    "    ('num', num_pipeline_scale, num_cols),\n",
    "    ('cat', cat_pipeline, cat_cols)\n",
    "])"
   ]
  },
  {
   "cell_type": "code",
   "execution_count": 23,
   "metadata": {},
   "outputs": [],
   "source": [
    "y_transfomer = LabelEncoder()"
   ]
  },
  {
   "cell_type": "code",
   "execution_count": 33,
   "metadata": {},
   "outputs": [],
   "source": [
    "# Preprocessing the data\n",
    "\n",
    "X_train_prepared = full_pipeline.fit_transform(X_train)\n",
    "X_test_prepared = full_pipeline.fit_transform(X_test)\n",
    "\n",
    "X_train_prepared_scaled = full_pipeline_scale.fit_transform(X_train)\n",
    "X_test_prepared_scaled = full_pipeline_scale.fit_transform(X_test)"
   ]
  },
  {
   "cell_type": "code",
   "execution_count": 25,
   "metadata": {},
   "outputs": [],
   "source": [
    "y_train_prepared = y_transfomer.fit_transform(y_train)\n",
    "y_test_prepared = y_transfomer.fit_transform(y_test)"
   ]
  },
  {
   "cell_type": "code",
   "execution_count": 26,
   "metadata": {},
   "outputs": [
    {
     "data": {
      "text/plain": [
       "RandomForestClassifier(n_estimators=500)"
      ]
     },
     "execution_count": 26,
     "metadata": {},
     "output_type": "execute_result"
    }
   ],
   "source": [
    "# trying different algorithms\n",
    "\n",
    "from sklearn.svm import SVC\n",
    "from sklearn.tree import DecisionTreeClassifier\n",
    "from sklearn.ensemble import RandomForestClassifier\n",
    "\n",
    "\n",
    "\n",
    "svc_clf = SVC(C=0.05)\n",
    "svc_clf.fit(X_train_prepared_scaled, y_train_prepared)\n",
    "\n",
    "tree_clf = DecisionTreeClassifier()\n",
    "tree_clf.fit(X_train_prepared, y_train_prepared)\n",
    "\n",
    "rmf_clf = RandomForestClassifier(n_estimators=500)\n",
    "rmf_clf.fit(X_train_prepared, y_train_prepared)"
   ]
  },
  {
   "cell_type": "code",
   "execution_count": 27,
   "metadata": {},
   "outputs": [
    {
     "name": "stdout",
     "output_type": "stream",
     "text": [
      "Support Vector Machine\n"
     ]
    },
    {
     "data": {
      "image/png": "[encoded data removed]",
      "text/plain": [
       "<Figure size 288x288 with 1 Axes>"
      ]
     },
     "metadata": {
      "needs_background": "light"
     },
     "output_type": "display_data"
    },
    {
     "name": "stdout",
     "output_type": "stream",
     "text": [
      "Precision: 0.950\n",
      "Recall: 1.000\n",
      "F1: 0.974\n",
      "Accuracy: 0.971\n",
      "\n",
      "Decision Tree\n"
     ]
    },
    {
     "data": {
      "image/png": "[encoded data removed]",
      "text/plain": [
       "<Figure size 288x288 with 1 Axes>"
      ]
     },
     "metadata": {
      "needs_background": "light"
     },
     "output_type": "display_data"
    },
    {
     "name": "stdout",
     "output_type": "stream",
     "text": [
      "Precision: 0.950\n",
      "Recall: 1.000\n",
      "F1: 0.974\n",
      "Accuracy: 0.971\n",
      "\n",
      "Random Forest\n"
     ]
    },
    {
     "data": {
      "image/png": "[encoded data removed]",
      "text/plain": [
       "<Figure size 288x288 with 1 Axes>"
      ]
     },
     "metadata": {
      "needs_background": "light"
     },
     "output_type": "display_data"
    },
    {
     "name": "stdout",
     "output_type": "stream",
     "text": [
      "Precision: 1.000\n",
      "Recall: 1.000\n",
      "F1: 1.000\n",
      "Accuracy: 1.000\n"
     ]
    }
   ],
   "source": [
    "importlib.reload(attrs)\n",
    "\n",
    "print(\"Support Vector Machine\")\n",
    "attrs.analyze_model(svc_clf, X_test_prepared_scaled, y_test_prepared)\n",
    "\n",
    "print(\"\\nDecision Tree\")\n",
    "attrs.analyze_model(tree_clf, X_test_prepared, y_test_prepared)\n",
    "\n",
    "print(\"\\nRandom Forest\")\n",
    "attrs.analyze_model(rmf_clf, X_test_prepared, y_test_prepared)"
   ]
  },
  {
   "cell_type": "code",
   "execution_count": 57,
   "metadata": {},
   "outputs": [
    {
     "data": {
      "text/plain": [
       "GridSearchCV(cv=10, estimator=SVC(),\n",
       "             param_grid={'C': [0.1, 1, 10, 100, 1000],\n",
       "                         'gamma': [1, 0.1, 0.01, 0.001, 0.0001, 'scale'],\n",
       "                         'kernel': ['rbf', 'linear']},\n",
       "             return_train_score=True, scoring='accuracy')"
      ]
     },
     "execution_count": 57,
     "metadata": {},
     "output_type": "execute_result"
    }
   ],
   "source": [
    "# do a grid search over random forest classifer\n",
    "\n",
    "# parameters for the grid search on support vector machine classifer\n",
    "\n",
    "\n",
    "param_grid_svc = {'C': [0.1, 1, 10, 100, 1000],\n",
    "                'gamma': [1, 0.1, 0.01, 0.001, 0.0001, 'scale'],\n",
    "                'kernel': ['rbf', 'linear']}\n",
    "\n",
    "\n",
    "grid_search_svc = GridSearchCV(SVC(), param_grid_svc, cv=10, scoring='accuracy', return_train_score=True)\n",
    "grid_search_svc.fit(X_train_prepared_scaled, y_train_prepared)"
   ]
  },
  {
   "cell_type": "code",
   "execution_count": 58,
   "metadata": {},
   "outputs": [
    {
     "data": {
      "text/plain": [
       "{'C': 100, 'gamma': 0.1, 'kernel': 'rbf'}"
      ]
     },
     "execution_count": 58,
     "metadata": {},
     "output_type": "execute_result"
    }
   ],
   "source": [
    "grid_search_svc.best_params_"
   ]
  },
  {
   "cell_type": "code",
   "execution_count": 59,
   "metadata": {},
   "outputs": [
    {
     "data": {
      "image/png": "[encoded data removed]",
      "text/plain": [
       "<Figure size 288x288 with 1 Axes>"
      ]
     },
     "metadata": {
      "needs_background": "light"
     },
     "output_type": "display_data"
    },
    {
     "name": "stdout",
     "output_type": "stream",
     "text": [
      "Precision: 0.000\n",
      "Recall: 0.000\n",
      "F1: 0.612\n",
      "Accuracy: 0.441\n"
     ]
    },
    {
     "name": "stderr",
     "output_type": "stream",
     "text": [
      "e:\\Program files\\Anaconda3\\lib\\site-packages\\sklearn\\metrics\\_classification.py:1248: UndefinedMetricWarning: Precision is ill-defined and being set to 0.0 due to no predicted samples. Use `zero_division` parameter to control this behavior.\n",
      "  _warn_prf(average, modifier, msg_start, len(result))\n"
     ]
    }
   ],
   "source": [
    "attrs.analyze_model(grid_search_svc.best_estimator_, X_test_prepared, y_test_prepared)"
   ]
  },
  {
   "cell_type": "code",
   "execution_count": 61,
   "metadata": {},
   "outputs": [
    {
     "data": {
      "text/plain": [
       "GridSearchCV(cv=5, estimator=RandomForestClassifier(),\n",
       "             param_grid={'criterion': ['gini', 'entropy'],\n",
       "                         'max_depth': [4, 5, 6, 7, 8, 9, 10],\n",
       "                         'max_features': ['auto', 'sqrt', 'log2'],\n",
       "                         'n_estimators': [100, 200, 300]},\n",
       "             return_train_score=True, scoring='accuracy')"
      ]
     },
     "execution_count": 61,
     "metadata": {},
     "output_type": "execute_result"
    }
   ],
   "source": [
    "# do a grid search over random forest classifer\n",
    "\n",
    "# parameters for the grid search on random forest classifier\n",
    "\n",
    "\n",
    "param_grid_rmf = {\n",
    "    'n_estimators': [100, 200, 300],\n",
    "    'max_features': ['auto', 'sqrt', 'log2'],\n",
    "    'max_depth': [4, 5, 6, 7, 8, 9, 10],\n",
    "    'criterion': ['gini', 'entropy']\n",
    "}\n",
    "\n",
    "grid_search_rmf = GridSearchCV(RandomForestClassifier(), param_grid_rmf, cv=5, scoring='accuracy', return_train_score=True)\n",
    "grid_search_rmf.fit(X_train_prepared, y_train_prepared)"
   ]
  },
  {
   "cell_type": "code",
   "execution_count": 62,
   "metadata": {},
   "outputs": [
    {
     "data": {
      "text/plain": [
       "{'criterion': 'gini',\n",
       " 'max_depth': 4,\n",
       " 'max_features': 'auto',\n",
       " 'n_estimators': 100}"
      ]
     },
     "execution_count": 62,
     "metadata": {},
     "output_type": "execute_result"
    }
   ],
   "source": [
    "grid_search_rmf.best_params_"
   ]
  },
  {
   "cell_type": "code",
   "execution_count": 63,
   "metadata": {},
   "outputs": [
    {
     "data": {
      "image/png": "[encoded data removed]",
      "text/plain": [
       "<Figure size 288x288 with 1 Axes>"
      ]
     },
     "metadata": {
      "needs_background": "light"
     },
     "output_type": "display_data"
    },
    {
     "name": "stdout",
     "output_type": "stream",
     "text": [
      "Precision: 1.000\n",
      "Recall: 1.000\n",
      "F1: 1.000\n",
      "Accuracy: 1.000\n"
     ]
    }
   ],
   "source": [
    "attrs.analyze_model(grid_search_rmf.best_estimator_, X_test_prepared, y_test_prepared)"
   ]
  },
  {
   "cell_type": "code",
   "execution_count": 64,
   "metadata": {},
   "outputs": [
    {
     "data": {
      "text/plain": [
       "['models/kidney_disease_model.pkl']"
      ]
     },
     "execution_count": 64,
     "metadata": {},
     "output_type": "execute_result"
    }
   ],
   "source": [
    "joblib.dump(grid_search_rmf.best_estimator_, 'models/kidney_disease_model.pkl')"
   ]
  },
  {
   "cell_type": "code",
   "execution_count": 65,
   "metadata": {},
   "outputs": [
    {
     "name": "stdout",
     "output_type": "stream",
     "text": [
      "<class 'pandas.core.frame.DataFrame'>\n",
      "Int64Index: 120 entries, 209 to 281\n",
      "Data columns (total 24 columns):\n",
      " #   Column  Non-Null Count  Dtype  \n",
      "---  ------  --------------  -----  \n",
      " 0   age     116 non-null    float64\n",
      " 1   bp      117 non-null    float64\n",
      " 2   sg      109 non-null    float64\n",
      " 3   al      109 non-null    float64\n",
      " 4   su      109 non-null    float64\n",
      " 5   rbc     75 non-null     object \n",
      " 6   pc      105 non-null    object \n",
      " 7   pcc     120 non-null    object \n",
      " 8   ba      120 non-null    object \n",
      " 9   bgr     109 non-null    float64\n",
      " 10  bu      115 non-null    float64\n",
      " 11  sc      115 non-null    float64\n",
      " 12  sod     100 non-null    float64\n",
      " 13  pot     100 non-null    float64\n",
      " 14  hemo    107 non-null    float64\n",
      " 15  pcv     101 non-null    object \n",
      " 16  wc      92 non-null     float64\n",
      " 17  rc      83 non-null     float64\n",
      " 18  htn     119 non-null    object \n",
      " 19  dm      119 non-null    object \n",
      " 20  cad     119 non-null    object \n",
      " 21  appet   119 non-null    object \n",
      " 22  pe      119 non-null    object \n",
      " 23  ane     119 non-null    object \n",
      "dtypes: float64(13), object(11)\n",
      "memory usage: 23.4+ KB\n"
     ]
    }
   ],
   "source": [
    "test_data.info()"
   ]
  },
  {
   "cell_type": "code",
   "execution_count": 69,
   "metadata": {},
   "outputs": [],
   "source": [
    "test_data_ = test_data.drop(columns_drop, axis=1)\n",
    "test_data_ = test_data_.dropna(axis=0)\n",
    "test_data_prepared = full_pipeline.transform(test_data_)"
   ]
  },
  {
   "cell_type": "code",
   "execution_count": 72,
   "metadata": {},
   "outputs": [
    {
     "data": {
      "text/plain": [
       "array([0, 0, 0, 0, 1, 0, 1, 0, 0, 1, 0, 1, 1, 1, 0, 0, 1, 1, 0, 1, 0, 1,\n",
       "       1, 1, 1, 0, 0, 0, 1, 0, 0, 0, 0, 1, 1, 0, 1, 0, 0, 0, 1, 1, 0, 0,\n",
       "       1, 1, 1, 1, 0, 0, 1, 0, 1, 0, 0, 1, 1, 0, 0, 1, 0, 0, 1, 0, 1, 1,\n",
       "       1, 0, 0, 0, 0, 0, 1, 1, 1, 1, 0, 1, 1, 1])"
      ]
     },
     "execution_count": 72,
     "metadata": {},
     "output_type": "execute_result"
    }
   ],
   "source": [
    "test_pred = grid_search_rmf.best_estimator_.predict(test_data_prepared)\n",
    "test_pred"
   ]
  },
  {
   "cell_type": "code",
   "execution_count": 73,
   "metadata": {},
   "outputs": [],
   "source": [
    "test_data_['classification'] = test_pred"
   ]
  },
  {
   "cell_type": "code",
   "execution_count": 75,
   "metadata": {},
   "outputs": [
    {
     "data": {
      "text/html": [
       "<div>\n",
       "<style scoped>\n",
       "    .dataframe tbody tr th:only-of-type {\n",
       "        vertical-align: middle;\n",
       "    }\n",
       "\n",
       "    .dataframe tbody tr th {\n",
       "        vertical-align: top;\n",
       "    }\n",
       "\n",
       "    .dataframe thead th {\n",
       "        text-align: right;\n",
       "    }\n",
       "</style>\n",
       "<table border=\"1\" class=\"dataframe\">\n",
       "  <thead>\n",
       "    <tr style=\"text-align: right;\">\n",
       "      <th></th>\n",
       "      <th>age</th>\n",
       "      <th>bp</th>\n",
       "      <th>sg</th>\n",
       "      <th>al</th>\n",
       "      <th>su</th>\n",
       "      <th>pc</th>\n",
       "      <th>bgr</th>\n",
       "      <th>bu</th>\n",
       "      <th>sc</th>\n",
       "      <th>hemo</th>\n",
       "      <th>pcv</th>\n",
       "      <th>htn</th>\n",
       "      <th>classification</th>\n",
       "    </tr>\n",
       "    <tr>\n",
       "      <th>id</th>\n",
       "      <th></th>\n",
       "      <th></th>\n",
       "      <th></th>\n",
       "      <th></th>\n",
       "      <th></th>\n",
       "      <th></th>\n",
       "      <th></th>\n",
       "      <th></th>\n",
       "      <th></th>\n",
       "      <th></th>\n",
       "      <th></th>\n",
       "      <th></th>\n",
       "      <th></th>\n",
       "    </tr>\n",
       "  </thead>\n",
       "  <tbody>\n",
       "    <tr>\n",
       "      <th>33</th>\n",
       "      <td>60.0</td>\n",
       "      <td>100.0</td>\n",
       "      <td>1.020</td>\n",
       "      <td>2.0</td>\n",
       "      <td>0.0</td>\n",
       "      <td>abnormal</td>\n",
       "      <td>140.0</td>\n",
       "      <td>55.0</td>\n",
       "      <td>2.5</td>\n",
       "      <td>10.1</td>\n",
       "      <td>29</td>\n",
       "      <td>yes</td>\n",
       "      <td>0</td>\n",
       "    </tr>\n",
       "    <tr>\n",
       "      <th>210</th>\n",
       "      <td>59.0</td>\n",
       "      <td>100.0</td>\n",
       "      <td>1.015</td>\n",
       "      <td>4.0</td>\n",
       "      <td>2.0</td>\n",
       "      <td>normal</td>\n",
       "      <td>255.0</td>\n",
       "      <td>132.0</td>\n",
       "      <td>12.8</td>\n",
       "      <td>7.3</td>\n",
       "      <td>20</td>\n",
       "      <td>yes</td>\n",
       "      <td>0</td>\n",
       "    </tr>\n",
       "    <tr>\n",
       "      <th>93</th>\n",
       "      <td>73.0</td>\n",
       "      <td>100.0</td>\n",
       "      <td>1.010</td>\n",
       "      <td>3.0</td>\n",
       "      <td>2.0</td>\n",
       "      <td>abnormal</td>\n",
       "      <td>295.0</td>\n",
       "      <td>90.0</td>\n",
       "      <td>5.6</td>\n",
       "      <td>9.2</td>\n",
       "      <td>30</td>\n",
       "      <td>yes</td>\n",
       "      <td>0</td>\n",
       "    </tr>\n",
       "    <tr>\n",
       "      <th>84</th>\n",
       "      <td>59.0</td>\n",
       "      <td>70.0</td>\n",
       "      <td>1.010</td>\n",
       "      <td>3.0</td>\n",
       "      <td>0.0</td>\n",
       "      <td>abnormal</td>\n",
       "      <td>76.0</td>\n",
       "      <td>186.0</td>\n",
       "      <td>15.0</td>\n",
       "      <td>7.1</td>\n",
       "      <td>22</td>\n",
       "      <td>yes</td>\n",
       "      <td>0</td>\n",
       "    </tr>\n",
       "    <tr>\n",
       "      <th>329</th>\n",
       "      <td>33.0</td>\n",
       "      <td>60.0</td>\n",
       "      <td>1.025</td>\n",
       "      <td>0.0</td>\n",
       "      <td>0.0</td>\n",
       "      <td>normal</td>\n",
       "      <td>80.0</td>\n",
       "      <td>25.0</td>\n",
       "      <td>0.9</td>\n",
       "      <td>14.1</td>\n",
       "      <td>48</td>\n",
       "      <td>no</td>\n",
       "      <td>1</td>\n",
       "    </tr>\n",
       "    <tr>\n",
       "      <th>...</th>\n",
       "      <td>...</td>\n",
       "      <td>...</td>\n",
       "      <td>...</td>\n",
       "      <td>...</td>\n",
       "      <td>...</td>\n",
       "      <td>...</td>\n",
       "      <td>...</td>\n",
       "      <td>...</td>\n",
       "      <td>...</td>\n",
       "      <td>...</td>\n",
       "      <td>...</td>\n",
       "      <td>...</td>\n",
       "      <td>...</td>\n",
       "    </tr>\n",
       "    <tr>\n",
       "      <th>386</th>\n",
       "      <td>46.0</td>\n",
       "      <td>70.0</td>\n",
       "      <td>1.025</td>\n",
       "      <td>0.0</td>\n",
       "      <td>0.0</td>\n",
       "      <td>normal</td>\n",
       "      <td>100.0</td>\n",
       "      <td>47.0</td>\n",
       "      <td>0.5</td>\n",
       "      <td>16.4</td>\n",
       "      <td>43</td>\n",
       "      <td>no</td>\n",
       "      <td>1</td>\n",
       "    </tr>\n",
       "    <tr>\n",
       "      <th>79</th>\n",
       "      <td>56.0</td>\n",
       "      <td>80.0</td>\n",
       "      <td>1.010</td>\n",
       "      <td>1.0</td>\n",
       "      <td>0.0</td>\n",
       "      <td>normal</td>\n",
       "      <td>165.0</td>\n",
       "      <td>55.0</td>\n",
       "      <td>1.8</td>\n",
       "      <td>13.5</td>\n",
       "      <td>40</td>\n",
       "      <td>yes</td>\n",
       "      <td>0</td>\n",
       "    </tr>\n",
       "    <tr>\n",
       "      <th>285</th>\n",
       "      <td>66.0</td>\n",
       "      <td>70.0</td>\n",
       "      <td>1.020</td>\n",
       "      <td>0.0</td>\n",
       "      <td>0.0</td>\n",
       "      <td>normal</td>\n",
       "      <td>94.0</td>\n",
       "      <td>19.0</td>\n",
       "      <td>0.7</td>\n",
       "      <td>16.0</td>\n",
       "      <td>41</td>\n",
       "      <td>no</td>\n",
       "      <td>1</td>\n",
       "    </tr>\n",
       "    <tr>\n",
       "      <th>305</th>\n",
       "      <td>41.0</td>\n",
       "      <td>80.0</td>\n",
       "      <td>1.020</td>\n",
       "      <td>0.0</td>\n",
       "      <td>0.0</td>\n",
       "      <td>normal</td>\n",
       "      <td>122.0</td>\n",
       "      <td>25.0</td>\n",
       "      <td>0.8</td>\n",
       "      <td>17.1</td>\n",
       "      <td>41</td>\n",
       "      <td>no</td>\n",
       "      <td>1</td>\n",
       "    </tr>\n",
       "    <tr>\n",
       "      <th>281</th>\n",
       "      <td>55.0</td>\n",
       "      <td>80.0</td>\n",
       "      <td>1.025</td>\n",
       "      <td>0.0</td>\n",
       "      <td>0.0</td>\n",
       "      <td>normal</td>\n",
       "      <td>130.0</td>\n",
       "      <td>50.0</td>\n",
       "      <td>1.2</td>\n",
       "      <td>15.5</td>\n",
       "      <td>41</td>\n",
       "      <td>no</td>\n",
       "      <td>1</td>\n",
       "    </tr>\n",
       "  </tbody>\n",
       "</table>\n",
       "<p>80 rows × 13 columns</p>\n",
       "</div>"
      ],
      "text/plain": [
       "      age     bp     sg   al   su        pc    bgr     bu    sc  hemo pcv  \\\n",
       "id                                                                          \n",
       "33   60.0  100.0  1.020  2.0  0.0  abnormal  140.0   55.0   2.5  10.1  29   \n",
       "210  59.0  100.0  1.015  4.0  2.0    normal  255.0  132.0  12.8   7.3  20   \n",
       "93   73.0  100.0  1.010  3.0  2.0  abnormal  295.0   90.0   5.6   9.2  30   \n",
       "84   59.0   70.0  1.010  3.0  0.0  abnormal   76.0  186.0  15.0   7.1  22   \n",
       "329  33.0   60.0  1.025  0.0  0.0    normal   80.0   25.0   0.9  14.1  48   \n",
       "..    ...    ...    ...  ...  ...       ...    ...    ...   ...   ...  ..   \n",
       "386  46.0   70.0  1.025  0.0  0.0    normal  100.0   47.0   0.5  16.4  43   \n",
       "79   56.0   80.0  1.010  1.0  0.0    normal  165.0   55.0   1.8  13.5  40   \n",
       "285  66.0   70.0  1.020  0.0  0.0    normal   94.0   19.0   0.7  16.0  41   \n",
       "305  41.0   80.0  1.020  0.0  0.0    normal  122.0   25.0   0.8  17.1  41   \n",
       "281  55.0   80.0  1.025  0.0  0.0    normal  130.0   50.0   1.2  15.5  41   \n",
       "\n",
       "     htn  classification  \n",
       "id                        \n",
       "33   yes               0  \n",
       "210  yes               0  \n",
       "93   yes               0  \n",
       "84   yes               0  \n",
       "329   no               1  \n",
       "..   ...             ...  \n",
       "386   no               1  \n",
       "79   yes               0  \n",
       "285   no               1  \n",
       "305   no               1  \n",
       "281   no               1  \n",
       "\n",
       "[80 rows x 13 columns]"
      ]
     },
     "execution_count": 75,
     "metadata": {},
     "output_type": "execute_result"
    }
   ],
   "source": [
    "test_data_"
   ]
  },
  {
   "cell_type": "code",
   "execution_count": null,
   "metadata": {},
   "outputs": [],
   "source": [
    "test_data_.to_csv(\"datasets/kidney_disease_test_predicted.csv\")"
   ]
  }
 ],
 "metadata": {
  "kernelspec": {
   "display_name": "Python 3.9.7 ('base')",
   "language": "python",
   "name": "python3"
  },
  "language_info": {
   "codemirror_mode": {
    "name": "ipython",
    "version": 3
   },
   "file_extension": ".py",
   "mimetype": "text/x-python",
   "name": "python",
   "nbconvert_exporter": "python",
   "pygments_lexer": "ipython3",
   "version": "3.9.7"
  },
  "orig_nbformat": 4,
  "vscode": {
   "interpreter": {
    "hash": "d6fbddb6984aa66203b7d586308fc5f4c061740ab0e74dcb7f151efc67e07916"
   }
  }
 },
 "nbformat": 4,
 "nbformat_minor": 2
}
